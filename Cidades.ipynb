{
 "cells": [
  {
   "cell_type": "code",
   "execution_count": 1,
   "metadata": {},
   "outputs": [],
   "source": [
    "import pandas as pd\n",
    "low_memory=False\n",
    "import matplotlib.pyplot as plt\n",
    "%matplotlib inline\n",
    "pd.options.display.max_columns = 80\n",
    "pd.options.display.max_rows = 90"
   ]
  },
  {
   "cell_type": "code",
   "execution_count": 2,
   "metadata": {},
   "outputs": [],
   "source": [
    "filename = r'C:\\Users\\gabri\\Downloads\\HIST_PAINEL_COVIDBR_19nov2020.csv'\n",
    "df = pd.read_csv(filename, delimiter=';',\n",
    "                 error_bad_lines=False)"
   ]
  },
  {
   "cell_type": "code",
   "execution_count": 3,
   "metadata": {},
   "outputs": [
    {
     "name": "stdout",
     "output_type": "stream",
     "text": [
      "<class 'pandas.core.frame.DataFrame'>\n",
      "RangeIndex: 1338190 entries, 0 to 1338189\n",
      "Data columns (total 17 columns):\n",
      " #   Column                  Non-Null Count    Dtype  \n",
      "---  ------                  --------------    -----  \n",
      " 0   regiao                  1338190 non-null  object \n",
      " 1   estado                  1337921 non-null  object \n",
      " 2   municipio               1325660 non-null  object \n",
      " 3   coduf                   1338190 non-null  int64  \n",
      " 4   codmun                  1330658 non-null  float64\n",
      " 5   codRegiaoSaude          1325660 non-null  float64\n",
      " 6   nomeRegiaoSaude         1325660 non-null  object \n",
      " 7   data                    1338190 non-null  object \n",
      " 8   semanaEpi               1338190 non-null  int64  \n",
      " 9   populacaoTCU2019        1333192 non-null  float64\n",
      " 10  casosAcumulado          1338190 non-null  int64  \n",
      " 11  casosNovos              1338190 non-null  int64  \n",
      " 12  obitosAcumulado         1338190 non-null  int64  \n",
      " 13  obitosNovos             1338190 non-null  int64  \n",
      " 14  Recuperadosnovos        215 non-null      float64\n",
      " 15  emAcompanhamentoNovos   215 non-null      float64\n",
      " 16  interior/metropolitana  1325660 non-null  float64\n",
      "dtypes: float64(6), int64(6), object(5)\n",
      "memory usage: 173.6+ MB\n"
     ]
    }
   ],
   "source": [
    "df.info()"
   ]
  },
  {
   "cell_type": "code",
   "execution_count": 7,
   "metadata": {},
   "outputs": [
    {
     "data": {
      "image/png": "[encoded data removed]",
      "text/plain": [
       "<Figure size 432x288 with 1 Axes>"
      ]
     },
     "metadata": {
      "needs_background": "light"
     },
     "output_type": "display_data"
    }
   ],
   "source": [
    "df.groupby('municipio')['casosAcumulado'].max().sort_values().tail(7).plot(kind='barh')\n",
    "plt.xlabel('Casos Confirmados')\n",
    "plt.ylabel('Cidades')\n",
    "plt.show()"
   ]
  },
  {
   "cell_type": "code",
   "execution_count": null,
   "metadata": {},
   "outputs": [],
   "source": []
  }
 ],
 "metadata": {
  "kernelspec": {
   "display_name": "Python 3",
   "language": "python",
   "name": "python3"
  },
  "language_info": {
   "codemirror_mode": {
    "name": "ipython",
    "version": 3
   },
   "file_extension": ".py",
   "mimetype": "text/x-python",
   "name": "python",
   "nbconvert_exporter": "python",
   "pygments_lexer": "ipython3",
   "version": "3.8.6"
  }
 },
 "nbformat": 4,
 "nbformat_minor": 4
}
