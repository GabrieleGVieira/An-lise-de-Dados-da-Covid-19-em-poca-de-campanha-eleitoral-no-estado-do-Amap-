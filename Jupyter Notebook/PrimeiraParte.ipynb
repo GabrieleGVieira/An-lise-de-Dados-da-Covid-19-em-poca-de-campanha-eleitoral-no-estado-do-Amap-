{
 "cells": [
  {
   "cell_type": "markdown",
   "metadata": {},
   "source": [
    "# Lugares com maior número de casos da Covid-19"
   ]
  },
  {
   "cell_type": "markdown",
   "metadata": {},
   "source": [
    "Na primeira parte da nossa análise será ver os locais que se destacam em número de casos da COVID-19"
   ]
  },
  {
   "cell_type": "code",
   "execution_count": 2,
   "metadata": {},
   "outputs": [],
   "source": [
    "import pandas as pd     #importando a biblioteca pandas para analisar os dados\n",
    "import matplotlib.pyplot as plt #importando a biblioteca matplotlib para fazer os gráficos"
   ]
  },
  {
   "cell_type": "code",
   "execution_count": 3,
   "metadata": {},
   "outputs": [],
   "source": [
    "filename = r'C:\\Users\\gabri\\Downloads\\HIST_PAINEL_COVIDBR_19nov2020.csv'  #carregando o arquivo de dados da COVID-19 no Brasil\n",
    "df = pd.read_csv(filename, delimiter=';',\n",
    "                 error_bad_lines=False)"
   ]
  },
  {
   "cell_type": "code",
   "execution_count": 11,
   "metadata": {},
   "outputs": [],
   "source": [
    "selecionadas = ['estado','municipio', 'casosAcumulado']\n",
    "covidSelecionadas = df.filter(items=selecionadas)"
   ]
  },
  {
   "cell_type": "markdown",
   "metadata": {},
   "source": [
    "Primeiro vamos analisar quais são o estados com o maior número de casos."
   ]
  },
  {
   "cell_type": "code",
   "execution_count": 6,
   "metadata": {},
   "outputs": [
    {
     "data": {
      "image/png": "[encoded data removed]",
      "text/plain": [
       "<Figure size 936x504 with 1 Axes>"
      ]
     },
     "metadata": {},
     "output_type": "display_data"
    }
   ],
   "source": [
    "covidSelecionadas.groupby('estado')['casosAcumulado'].max().sort_values().tail(5).plot(kind='barh')\n",
    "plt.xlabel('Casos Confirmados')\n",
    "plt.ylabel('Estados')\n",
    "plt.rcParams['figure.figsize'] = (13,7)\n",
    "plt.show()"
   ]
  },
  {
   "cell_type": "markdown",
   "metadata": {},
   "source": [
    "De acordo com nosso primeiro gráfico, o estado de São Paulo é o estado com maior número de casos, e com uma grande diferença dos estados seguintesm. Como vemos descrito no DataFrame abaixo os valores totais representados, São Paulo se diferencia muito dos outros estados, porém os outros estados estão próximos entre si."
   ]
  },
  {
   "cell_type": "code",
   "execution_count": 7,
   "metadata": {},
   "outputs": [
    {
     "data": {
      "text/plain": [
       "estado\n",
       "SC     311393\n",
       "RJ     334514\n",
       "BA     380294\n",
       "MG     390337\n",
       "SP    1191290\n",
       "Name: casosAcumulado, dtype: int64"
      ]
     },
     "execution_count": 7,
     "metadata": {},
     "output_type": "execute_result"
    }
   ],
   "source": [
    "covidSelecionadas.groupby('estado')['casosAcumulado'].max().sort_values().tail(5)"
   ]
  },
  {
   "cell_type": "markdown",
   "metadata": {},
   "source": [
    "Agora que sabemos que o Estado de São Paulo é o maior estado em números de casos, e ele se destaca com uma diferença muito grande dos outros, vamos analisar mais adentro e ver quais são os municípios dentro do estado com o maior número de casos."
   ]
  },
  {
   "cell_type": "code",
   "execution_count": 8,
   "metadata": {},
   "outputs": [],
   "source": [
    "SP = covidSelecionadas.query('estado==\"SP\"')"
   ]
  },
  {
   "cell_type": "code",
   "execution_count": 9,
   "metadata": {},
   "outputs": [
    {
     "data": {
      "image/png": "[encoded data removed]",
      "text/plain": [
       "<Figure size 936x504 with 1 Axes>"
      ]
     },
     "metadata": {},
     "output_type": "display_data"
    }
   ],
   "source": [
    "SP.groupby('municipio')['casosAcumulado'].max().sort_values().tail(5).plot(kind='barh')\n",
    "plt.xlabel('Casos Confirmados')\n",
    "plt.ylabel('Cidades')\n",
    "plt.rcParams['figure.figsize'] = (13,7)\n",
    "plt.show()"
   ]
  },
  {
   "cell_type": "markdown",
   "metadata": {},
   "source": [
    "Novamente temos um primeiro colocado muito a frente dos seguintes classificados. Porém, vale resaltar que a cidade de São Paulo tem um número de habitantes muito maior comparado as outras cidades, que estão com valores muito próximos uma das outras, então vamos ver os valores descrito no DataFrame abaixo"
   ]
  },
  {
   "cell_type": "code",
   "execution_count": 10,
   "metadata": {},
   "outputs": [
    {
     "data": {
      "text/plain": [
       "municipio\n",
       "Ribeirão Preto            26404\n",
       "São José do Rio Preto     28010\n",
       "São Bernardo do Campo     28281\n",
       "Campinas                  35504\n",
       "São Paulo                336703\n",
       "Name: casosAcumulado, dtype: int64"
      ]
     },
     "execution_count": 10,
     "metadata": {},
     "output_type": "execute_result"
    }
   ],
   "source": [
    "SP.groupby('municipio')['casosAcumulado'].max().sort_values().tail(5)"
   ]
  },
  {
   "cell_type": "markdown",
   "metadata": {},
   "source": [
    "Agora que já sabemos quais os municípios com o maior número de casos, vamos passar para a segunda parte da nossa análise."
   ]
  }
 ],
 "metadata": {
  "kernelspec": {
   "display_name": "Python 3",
   "language": "python",
   "name": "python3"
  },
  "language_info": {
   "codemirror_mode": {
    "name": "ipython",
    "version": 3
   },
   "file_extension": ".py",
   "mimetype": "text/x-python",
   "name": "python",
   "nbconvert_exporter": "python",
   "pygments_lexer": "ipython3",
   "version": "3.6.5"
  }
 },
 "nbformat": 4,
 "nbformat_minor": 2
}
